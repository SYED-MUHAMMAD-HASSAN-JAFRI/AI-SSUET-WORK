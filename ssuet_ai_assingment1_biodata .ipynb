{
 "cells": [
  {
   "cell_type": "code",
   "execution_count": 2,
   "metadata": {},
   "outputs": [
    {
     "name": "stdout",
     "output_type": "stream",
     "text": [
      "FIRST NAME :  HASSAN\n",
      "LAST  NAME :  jafri\n",
      "DATE OF BIRTH :  22-june-1997\n",
      "FATHER NAME :  tariq iqbal\n",
      "EMAIL :  syedhassanjafri1@gmail.com\n",
      "CURRENT EDUCATION : BS-CS from ssuet(in progress)\n",
      "CONTACT : 03132528607\n",
      "GENDER :l MALE\n",
      "OCCUPATION : student\n"
     ]
    }
   ],
   "source": [
    "first_name=\"HASSAN\"\n",
    "last_name=\"jafri\"\n",
    "date_birth=\"22-june-1997\"\n",
    "father_name=\"tariq iqbal\"\n",
    "email=\"syedhassanjafri1@gmail.com\"\n",
    "current_eduction=\"BS-CS from ssuet(in progress)\"\n",
    "phone_no=\"03132528607\"\n",
    "gender=\"MALE\"\n",
    "Occupation=\"student\"\n",
    "print(\"FIRST NAME : \",first_name)\n",
    "print(\"LAST  NAME : \",last_name)\n",
    "print(\"DATE OF BIRTH : \",date_birth)\n",
    "print(\"FATHER NAME : \",father_name)\n",
    "print(\"EMAIL : \",email)\n",
    "print(\"CURRENT EDUCATION :\",current_eduction)\n",
    "print(\"CONTACT :\",phone_no)\n",
    "print(\"GENDER :l\",gender)\n",
    "print(\"OCCUPATION :\",Occupation)"
   ]
  },
  {
   "cell_type": "code",
   "execution_count": null,
   "metadata": {},
   "outputs": [],
   "source": []
  }
 ],
 "metadata": {
  "kernelspec": {
   "display_name": "Python 3",
   "language": "python",
   "name": "python3"
  },
  "language_info": {
   "codemirror_mode": {
    "name": "ipython",
    "version": 3
   },
   "file_extension": ".py",
   "mimetype": "text/x-python",
   "name": "python",
   "nbconvert_exporter": "python",
   "pygments_lexer": "ipython3",
   "version": "3.7.4"
  }
 },
 "nbformat": 4,
 "nbformat_minor": 2
}
